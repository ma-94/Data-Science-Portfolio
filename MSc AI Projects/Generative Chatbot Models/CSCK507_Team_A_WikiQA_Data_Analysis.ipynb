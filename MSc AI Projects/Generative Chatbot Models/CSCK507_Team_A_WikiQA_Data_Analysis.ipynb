{
  "nbformat": 4,
  "nbformat_minor": 0,
  "metadata": {
    "colab": {
      "name": "CSCK507_Team_A_WikiQA_Data_Analysis.ipynb",
      "provenance": [],
      "machine_shape": "hm",
      "collapsed_sections": [],
      "mount_file_id": "https://github.com/benschlup/csck507_team_a/blob/main/CSCK507_Team_A_ChatBot_THREE.ipynb",
      "authorship_tag": "ABX9TyO14nQnndJDTn6Lnp8Rtz3C",
      "include_colab_link": true
    },
    "kernelspec": {
      "name": "python3",
      "display_name": "Python 3"
    },
    "language_info": {
      "name": "python"
    }
  },
  "cells": [
    {
      "cell_type": "markdown",
      "metadata": {
        "id": "view-in-github",
        "colab_type": "text"
      },
      "source": [
        "<a href=\"https://colab.research.google.com/github/benschlup/csck507_team_a/blob/main/CSCK507_Team_A_WikiQA_Data_Analysis.ipynb\" target=\"_parent\"><img src=\"https://colab.research.google.com/assets/colab-badge.svg\" alt=\"Open In Colab\"/></a>"
      ]
    },
    {
      "cell_type": "markdown",
      "source": [
        "---\n",
        "### **CSCK507 Natural Language Processing, March-May 2022: End-of-Module Assignment**\n",
        "# **Generative Chatbot**\n",
        "---\n",
        "#### Team A\n",
        "Muhammad Ali (Student ID 200050027)  \n",
        "Benjamin Schlup (Student ID 200050007)  \n",
        "Chinedu Abonyi (Student ID 200050028)  \n",
        "Victor Armenta-Valdes (Student ID 222500001)\n",
        "\n",
        "---\n",
        "# **Data Analysis**\n",
        "---"
      ],
      "metadata": {
        "id": "dXeItkpo51bj"
      }
    },
    {
      "cell_type": "markdown",
      "source": [
        "Dataset being used: https://www.microsoft.com/en-us/download/details.aspx?id=52419  \n",
        "Paper on dataset: https://aclanthology.org/D15-1237/  "
      ],
      "metadata": {
        "id": "kv0kmUiLmJSi"
      }
    },
    {
      "cell_type": "markdown",
      "source": [
        "---\n",
        "## 1. Configuration and framework"
      ],
      "metadata": {
        "id": "subk2_v1tjeV"
      }
    },
    {
      "cell_type": "code",
      "source": [
        "# Imports\n",
        "import os\n",
        "import re\n",
        "import urllib.request\n",
        "import zipfile\n",
        "\n",
        "import numpy as np\n",
        "import pandas as pd\n",
        "\n",
        "from keras_preprocessing.text import Tokenizer"
      ],
      "metadata": {
        "id": "CmdlY3dO1O_S"
      },
      "execution_count": 2,
      "outputs": []
    },
    {
      "cell_type": "markdown",
      "source": [
        "---\n",
        "## 2. Data acquisition and loading"
      ],
      "metadata": {
        "id": "Zd9YuELT4861"
      }
    },
    {
      "cell_type": "code",
      "source": [
        "# Download data: If link does not work any longer, access file manually from here: https://www.microsoft.com/en-us/download/details.aspx?id=52419\n",
        "urllib.request.urlretrieve(\"https://download.microsoft.com/download/E/5/F/E5FCFCEE-7005-4814-853D-DAA7C66507E0/WikiQACorpus.zip\", \"WikiQACorpus.zip\")"
      ],
      "metadata": {
        "id": "mYkrBnyV1L-E",
        "outputId": "1b5c5bba-e2bc-4911-fa8a-1170ad24c8a0",
        "colab": {
          "base_uri": "https://localhost:8080/"
        }
      },
      "execution_count": 3,
      "outputs": [
        {
          "output_type": "execute_result",
          "data": {
            "text/plain": [
              "('WikiQACorpus.zip', <http.client.HTTPMessage at 0x7f499c6c5990>)"
            ]
          },
          "metadata": {},
          "execution_count": 3
        }
      ]
    },
    {
      "cell_type": "code",
      "source": [
        "# Extract files\n",
        "with zipfile.ZipFile('WikiQACorpus.zip', 'r') as zipfile:\n",
        "   zipfile.extractall()"
      ],
      "metadata": {
        "id": "d09_-PN51ois"
      },
      "execution_count": 4,
      "outputs": []
    },
    {
      "cell_type": "code",
      "source": [
        "# Import questions and answers: training, validation and test datasets\n",
        "train_df = pd.read_csv( f'./WikiQACorpus/WikiQA-train.tsv', sep='\\t', encoding='ISO-8859-1')\n",
        "val_df = pd.read_csv( f'./WikiQACorpus/WikiQA-dev.tsv', sep='\\t', encoding='ISO-8859-1')\n",
        "test_df = pd.read_csv( f'./WikiQACorpus/WikiQA-test.tsv', sep='\\t', encoding='ISO-8859-1')       "
      ],
      "metadata": {
        "id": "e_tpDQAUEiKK"
      },
      "execution_count": 5,
      "outputs": []
    },
    {
      "cell_type": "markdown",
      "source": [
        "---\n",
        "## 3. Statistics"
      ],
      "metadata": {
        "id": "ijtnhP1p5EaU"
      }
    },
    {
      "cell_type": "code",
      "source": [
        "# Quality checks and exploratory data analysis removed: dataset has proven clean\n",
        "# Print gross volumes:\n",
        "print(f'Gross training dataset size: {len(train_df)}')\n",
        "print(f'Gross validation dataset size: {len(val_df)}')\n",
        "print(f'Gross test dataset size: {len(test_df)}')"
      ],
      "metadata": {
        "colab": {
          "base_uri": "https://localhost:8080/"
        },
        "id": "XPMMJHDhvRsN",
        "outputId": "e53c40c3-f1de-40b1-b904-0804b7dd5ebb"
      },
      "execution_count": 6,
      "outputs": [
        {
          "output_type": "stream",
          "name": "stdout",
          "text": [
            "Gross training dataset size: 20347\n",
            "Gross validation dataset size: 2733\n",
            "Gross test dataset size: 6116\n"
          ]
        }
      ]
    },
    {
      "cell_type": "code",
      "source": [
        "# Get idea about structure\n",
        "train_df.info()"
      ],
      "metadata": {
        "colab": {
          "base_uri": "https://localhost:8080/"
        },
        "id": "dl5M9ya_-D1a",
        "outputId": "69b03024-d1e0-4be8-b28a-7a1a2e4834cc"
      },
      "execution_count": 7,
      "outputs": [
        {
          "output_type": "stream",
          "name": "stdout",
          "text": [
            "<class 'pandas.core.frame.DataFrame'>\n",
            "RangeIndex: 20347 entries, 0 to 20346\n",
            "Data columns (total 7 columns):\n",
            " #   Column         Non-Null Count  Dtype \n",
            "---  ------         --------------  ----- \n",
            " 0   QuestionID     20347 non-null  object\n",
            " 1   Question       20347 non-null  object\n",
            " 2   DocumentID     20347 non-null  object\n",
            " 3   DocumentTitle  20347 non-null  object\n",
            " 4   SentenceID     20347 non-null  object\n",
            " 5   Sentence       20347 non-null  object\n",
            " 6   Label          20347 non-null  int64 \n",
            "dtypes: int64(1), object(6)\n",
            "memory usage: 1.1+ MB\n"
          ]
        }
      ]
    },
    {
      "cell_type": "code",
      "source": [
        "# Show sample of data: Confirm that we talk about broad (i.e. open domain) question/answer set\n",
        "train_df.sample(10)"
      ],
      "metadata": {
        "colab": {
          "base_uri": "https://localhost:8080/",
          "height": 363
        },
        "id": "xmDxzJ-e-UCX",
        "outputId": "8c68a77a-63a1-423b-d8dc-4a5a406ca408"
      },
      "execution_count": 8,
      "outputs": [
        {
          "output_type": "execute_result",
          "data": {
            "text/plain": [
              "      QuestionID                                           Question  \\\n",
              "17338      Q2552  when is the house of night book awakened comin...   \n",
              "5670        Q806                 how old old is xp operating system   \n",
              "18861      Q2790      where was the first march madness game played   \n",
              "2764        Q381                how does the brain process language   \n",
              "5827        Q827  how does milk turn into different  types of ch...   \n",
              "1552        Q217                what does 1 year mean to the planet   \n",
              "4759        Q665              How did the flag of chile get created   \n",
              "13362      Q1949                     who replaced nikita khrushchev   \n",
              "11313      Q1625   what are the colors of newfoundland and labrador   \n",
              "20103      Q3005             what is in the alpine mountain systems   \n",
              "\n",
              "      DocumentID                                  DocumentTitle SentenceID  \\\n",
              "17338      D2386                                 House of Night    D2386-8   \n",
              "5670        D780                                     Windows XP    D780-14   \n",
              "18861      D2593  NCAA Men's Division I Basketball Championship    D2593-9   \n",
              "2764        D379                            Language processing     D379-3   \n",
              "5827        D801                                         Cheese     D801-4   \n",
              "1552        D217                                          Earth    D217-10   \n",
              "4759        D649                                  Flag of Chile     D649-2   \n",
              "13362      D1840                              Nikita Khrushchev    D1840-8   \n",
              "11313      D1542                      Newfoundland and Labrador    D1542-9   \n",
              "20103      D2774                                           Alps    D2774-9   \n",
              "\n",
              "                                                Sentence  Label  \n",
              "17338  The series, which is published by St Martin's ...      0  \n",
              "5670   According to web analytics data generated by N...      0  \n",
              "18861  Lower-ranked teams are placed in the bracket a...      0  \n",
              "2764   Most recent theories consider that this proces...      0  \n",
              "5827   Cheese consists of proteins and fat from milk ...      0  \n",
              "1552   The planet's interior remains active, with a s...      0  \n",
              "4759   The Chilean flag is also known in Spanish as L...      0  \n",
              "13362  In 1939, Stalin sent him to govern Ukraine , a...      0  \n",
              "11313  A former colony and dominion of the United Kin...      0  \n",
              "20103  By the 6th century BC, the Celtic La TÃ¨ne cul...      0  "
            ],
            "text/html": [
              "\n",
              "  <div id=\"df-50e0f376-c058-4a96-a0e4-f3ee92fca55f\">\n",
              "    <div class=\"colab-df-container\">\n",
              "      <div>\n",
              "<style scoped>\n",
              "    .dataframe tbody tr th:only-of-type {\n",
              "        vertical-align: middle;\n",
              "    }\n",
              "\n",
              "    .dataframe tbody tr th {\n",
              "        vertical-align: top;\n",
              "    }\n",
              "\n",
              "    .dataframe thead th {\n",
              "        text-align: right;\n",
              "    }\n",
              "</style>\n",
              "<table border=\"1\" class=\"dataframe\">\n",
              "  <thead>\n",
              "    <tr style=\"text-align: right;\">\n",
              "      <th></th>\n",
              "      <th>QuestionID</th>\n",
              "      <th>Question</th>\n",
              "      <th>DocumentID</th>\n",
              "      <th>DocumentTitle</th>\n",
              "      <th>SentenceID</th>\n",
              "      <th>Sentence</th>\n",
              "      <th>Label</th>\n",
              "    </tr>\n",
              "  </thead>\n",
              "  <tbody>\n",
              "    <tr>\n",
              "      <th>17338</th>\n",
              "      <td>Q2552</td>\n",
              "      <td>when is the house of night book awakened comin...</td>\n",
              "      <td>D2386</td>\n",
              "      <td>House of Night</td>\n",
              "      <td>D2386-8</td>\n",
              "      <td>The series, which is published by St Martin's ...</td>\n",
              "      <td>0</td>\n",
              "    </tr>\n",
              "    <tr>\n",
              "      <th>5670</th>\n",
              "      <td>Q806</td>\n",
              "      <td>how old old is xp operating system</td>\n",
              "      <td>D780</td>\n",
              "      <td>Windows XP</td>\n",
              "      <td>D780-14</td>\n",
              "      <td>According to web analytics data generated by N...</td>\n",
              "      <td>0</td>\n",
              "    </tr>\n",
              "    <tr>\n",
              "      <th>18861</th>\n",
              "      <td>Q2790</td>\n",
              "      <td>where was the first march madness game played</td>\n",
              "      <td>D2593</td>\n",
              "      <td>NCAA Men's Division I Basketball Championship</td>\n",
              "      <td>D2593-9</td>\n",
              "      <td>Lower-ranked teams are placed in the bracket a...</td>\n",
              "      <td>0</td>\n",
              "    </tr>\n",
              "    <tr>\n",
              "      <th>2764</th>\n",
              "      <td>Q381</td>\n",
              "      <td>how does the brain process language</td>\n",
              "      <td>D379</td>\n",
              "      <td>Language processing</td>\n",
              "      <td>D379-3</td>\n",
              "      <td>Most recent theories consider that this proces...</td>\n",
              "      <td>0</td>\n",
              "    </tr>\n",
              "    <tr>\n",
              "      <th>5827</th>\n",
              "      <td>Q827</td>\n",
              "      <td>how does milk turn into different  types of ch...</td>\n",
              "      <td>D801</td>\n",
              "      <td>Cheese</td>\n",
              "      <td>D801-4</td>\n",
              "      <td>Cheese consists of proteins and fat from milk ...</td>\n",
              "      <td>0</td>\n",
              "    </tr>\n",
              "    <tr>\n",
              "      <th>1552</th>\n",
              "      <td>Q217</td>\n",
              "      <td>what does 1 year mean to the planet</td>\n",
              "      <td>D217</td>\n",
              "      <td>Earth</td>\n",
              "      <td>D217-10</td>\n",
              "      <td>The planet's interior remains active, with a s...</td>\n",
              "      <td>0</td>\n",
              "    </tr>\n",
              "    <tr>\n",
              "      <th>4759</th>\n",
              "      <td>Q665</td>\n",
              "      <td>How did the flag of chile get created</td>\n",
              "      <td>D649</td>\n",
              "      <td>Flag of Chile</td>\n",
              "      <td>D649-2</td>\n",
              "      <td>The Chilean flag is also known in Spanish as L...</td>\n",
              "      <td>0</td>\n",
              "    </tr>\n",
              "    <tr>\n",
              "      <th>13362</th>\n",
              "      <td>Q1949</td>\n",
              "      <td>who replaced nikita khrushchev</td>\n",
              "      <td>D1840</td>\n",
              "      <td>Nikita Khrushchev</td>\n",
              "      <td>D1840-8</td>\n",
              "      <td>In 1939, Stalin sent him to govern Ukraine , a...</td>\n",
              "      <td>0</td>\n",
              "    </tr>\n",
              "    <tr>\n",
              "      <th>11313</th>\n",
              "      <td>Q1625</td>\n",
              "      <td>what are the colors of newfoundland and labrador</td>\n",
              "      <td>D1542</td>\n",
              "      <td>Newfoundland and Labrador</td>\n",
              "      <td>D1542-9</td>\n",
              "      <td>A former colony and dominion of the United Kin...</td>\n",
              "      <td>0</td>\n",
              "    </tr>\n",
              "    <tr>\n",
              "      <th>20103</th>\n",
              "      <td>Q3005</td>\n",
              "      <td>what is in the alpine mountain systems</td>\n",
              "      <td>D2774</td>\n",
              "      <td>Alps</td>\n",
              "      <td>D2774-9</td>\n",
              "      <td>By the 6th century BC, the Celtic La TÃ¨ne cul...</td>\n",
              "      <td>0</td>\n",
              "    </tr>\n",
              "  </tbody>\n",
              "</table>\n",
              "</div>\n",
              "      <button class=\"colab-df-convert\" onclick=\"convertToInteractive('df-50e0f376-c058-4a96-a0e4-f3ee92fca55f')\"\n",
              "              title=\"Convert this dataframe to an interactive table.\"\n",
              "              style=\"display:none;\">\n",
              "        \n",
              "  <svg xmlns=\"http://www.w3.org/2000/svg\" height=\"24px\"viewBox=\"0 0 24 24\"\n",
              "       width=\"24px\">\n",
              "    <path d=\"M0 0h24v24H0V0z\" fill=\"none\"/>\n",
              "    <path d=\"M18.56 5.44l.94 2.06.94-2.06 2.06-.94-2.06-.94-.94-2.06-.94 2.06-2.06.94zm-11 1L8.5 8.5l.94-2.06 2.06-.94-2.06-.94L8.5 2.5l-.94 2.06-2.06.94zm10 10l.94 2.06.94-2.06 2.06-.94-2.06-.94-.94-2.06-.94 2.06-2.06.94z\"/><path d=\"M17.41 7.96l-1.37-1.37c-.4-.4-.92-.59-1.43-.59-.52 0-1.04.2-1.43.59L10.3 9.45l-7.72 7.72c-.78.78-.78 2.05 0 2.83L4 21.41c.39.39.9.59 1.41.59.51 0 1.02-.2 1.41-.59l7.78-7.78 2.81-2.81c.8-.78.8-2.07 0-2.86zM5.41 20L4 18.59l7.72-7.72 1.47 1.35L5.41 20z\"/>\n",
              "  </svg>\n",
              "      </button>\n",
              "      \n",
              "  <style>\n",
              "    .colab-df-container {\n",
              "      display:flex;\n",
              "      flex-wrap:wrap;\n",
              "      gap: 12px;\n",
              "    }\n",
              "\n",
              "    .colab-df-convert {\n",
              "      background-color: #E8F0FE;\n",
              "      border: none;\n",
              "      border-radius: 50%;\n",
              "      cursor: pointer;\n",
              "      display: none;\n",
              "      fill: #1967D2;\n",
              "      height: 32px;\n",
              "      padding: 0 0 0 0;\n",
              "      width: 32px;\n",
              "    }\n",
              "\n",
              "    .colab-df-convert:hover {\n",
              "      background-color: #E2EBFA;\n",
              "      box-shadow: 0px 1px 2px rgba(60, 64, 67, 0.3), 0px 1px 3px 1px rgba(60, 64, 67, 0.15);\n",
              "      fill: #174EA6;\n",
              "    }\n",
              "\n",
              "    [theme=dark] .colab-df-convert {\n",
              "      background-color: #3B4455;\n",
              "      fill: #D2E3FC;\n",
              "    }\n",
              "\n",
              "    [theme=dark] .colab-df-convert:hover {\n",
              "      background-color: #434B5C;\n",
              "      box-shadow: 0px 1px 3px 1px rgba(0, 0, 0, 0.15);\n",
              "      filter: drop-shadow(0px 1px 2px rgba(0, 0, 0, 0.3));\n",
              "      fill: #FFFFFF;\n",
              "    }\n",
              "  </style>\n",
              "\n",
              "      <script>\n",
              "        const buttonEl =\n",
              "          document.querySelector('#df-50e0f376-c058-4a96-a0e4-f3ee92fca55f button.colab-df-convert');\n",
              "        buttonEl.style.display =\n",
              "          google.colab.kernel.accessAllowed ? 'block' : 'none';\n",
              "\n",
              "        async function convertToInteractive(key) {\n",
              "          const element = document.querySelector('#df-50e0f376-c058-4a96-a0e4-f3ee92fca55f');\n",
              "          const dataTable =\n",
              "            await google.colab.kernel.invokeFunction('convertToInteractive',\n",
              "                                                     [key], {});\n",
              "          if (!dataTable) return;\n",
              "\n",
              "          const docLinkHtml = 'Like what you see? Visit the ' +\n",
              "            '<a target=\"_blank\" href=https://colab.research.google.com/notebooks/data_table.ipynb>data table notebook</a>'\n",
              "            + ' to learn more about interactive tables.';\n",
              "          element.innerHTML = '';\n",
              "          dataTable['output_type'] = 'display_data';\n",
              "          await google.colab.output.renderOutput(dataTable, element);\n",
              "          const docLink = document.createElement('div');\n",
              "          docLink.innerHTML = docLinkHtml;\n",
              "          element.appendChild(docLink);\n",
              "        }\n",
              "      </script>\n",
              "    </div>\n",
              "  </div>\n",
              "  "
            ]
          },
          "metadata": {},
          "execution_count": 8
        }
      ]
    },
    {
      "cell_type": "code",
      "source": [
        "# Check if there are any unavailable values\n",
        "print('Null values in training, validation or test data set:', train_df.isnull().values.any() | val_df.isnull().values.any() | test_df.isnull().values.any())"
      ],
      "metadata": {
        "colab": {
          "base_uri": "https://localhost:8080/"
        },
        "id": "cnmujKKd-rMU",
        "outputId": "37bdc897-dd03-4020-f13d-2b7734475178"
      },
      "execution_count": 9,
      "outputs": [
        {
          "output_type": "stream",
          "name": "stdout",
          "text": [
            "Null values in training, validation or test data set: False\n"
          ]
        }
      ]
    },
    {
      "cell_type": "code",
      "source": [
        "# Check how many rows actually contain correct answers (label==1): we only have 1039 correct answers -> probably too limited for open domain training if only using these for training\n",
        "correct_answers = sum(train_df['Label']==1)\n",
        "total_answers = len(train_df.index)\n",
        "print(f'Correct answers: {correct_answers} ({correct_answers*100/total_answers:.2f}%)')"
      ],
      "metadata": {
        "colab": {
          "base_uri": "https://localhost:8080/"
        },
        "id": "LlCGhwpM5icM",
        "outputId": "bcb830e8-9bc2-4253-c911-57423b8def21"
      },
      "execution_count": 10,
      "outputs": [
        {
          "output_type": "stream",
          "name": "stdout",
          "text": [
            "Correct answers: 1039 (5.11%)\n"
          ]
        }
      ]
    },
    {
      "cell_type": "code",
      "source": [
        "# Look at average question length in words: long tail above 10 words\n",
        "train_df['Question'].str.split().map(lambda x: len(x)).hist()"
      ],
      "metadata": {
        "colab": {
          "base_uri": "https://localhost:8080/",
          "height": 282
        },
        "id": "N0A9-QYq5rkJ",
        "outputId": "bff8e86c-5a93-42ad-db51-748b4b634551"
      },
      "execution_count": 11,
      "outputs": [
        {
          "output_type": "execute_result",
          "data": {
            "text/plain": [
              "<matplotlib.axes._subplots.AxesSubplot at 0x7f498c955790>"
            ]
          },
          "metadata": {},
          "execution_count": 11
        },
        {
          "output_type": "display_data",
          "data": {
            "text/plain": [
              "<Figure size 432x288 with 1 Axes>"
            ],
            "image/png": "[encoded data removed]"
          },
          "metadata": {
            "needs_background": "light"
          }
        }
      ]
    },
    {
      "cell_type": "code",
      "source": [
        "# Look at average answer length in words: long tail above 50 words\n",
        "train_df['Sentence'].str.split().map(lambda x: len(x)).hist()"
      ],
      "metadata": {
        "colab": {
          "base_uri": "https://localhost:8080/",
          "height": 282
        },
        "outputId": "3a1310ac-3d1f-4131-ce4d-3c14b8133c2e",
        "id": "K6TS6ypbLdcY"
      },
      "execution_count": 12,
      "outputs": [
        {
          "output_type": "execute_result",
          "data": {
            "text/plain": [
              "<matplotlib.axes._subplots.AxesSubplot at 0x7f498d498510>"
            ]
          },
          "metadata": {},
          "execution_count": 12
        },
        {
          "output_type": "display_data",
          "data": {
            "text/plain": [
              "<Figure size 432x288 with 1 Axes>"
            ],
            "image/png": "[encoded data removed]"
          },
          "metadata": {
            "needs_background": "light"
          }
        }
      ]
    },
    {
      "cell_type": "code",
      "source": [
        "# Estimate vocabulary size (without data cleansing/preparation yet): vocabulary size reasonable\n",
        "tokenizer = Tokenizer()\n",
        "tokenizer.fit_on_texts(train_df['Question'])\n",
        "print(f'Question vocabulary size based on training dataset: {len(tokenizer.word_index) + 1}')"
      ],
      "metadata": {
        "colab": {
          "base_uri": "https://localhost:8080/"
        },
        "id": "zbU_vWepBaEX",
        "outputId": "c4ee8c24-a1e3-44fc-a8ff-a68b90727acb"
      },
      "execution_count": 13,
      "outputs": [
        {
          "output_type": "stream",
          "name": "stdout",
          "text": [
            "Question vocabulary size based on training dataset: 4081\n"
          ]
        }
      ]
    },
    {
      "cell_type": "code",
      "source": [
        "# Estimate vocabulary size (without data cleansing/preparation yet): Answers seem to have prohibitely broad vocabulary\n",
        "tokenizer = Tokenizer()\n",
        "tokenizer.fit_on_texts(train_df['Sentence'])\n",
        "print(f'Answer vocabulary size based on training dataset: {len(tokenizer.word_index) + 1}')"
      ],
      "metadata": {
        "colab": {
          "base_uri": "https://localhost:8080/"
        },
        "outputId": "6f313f5c-1e3e-4513-e2ae-61bb9b68e72e",
        "id": "LuYn2ANsxSAm"
      },
      "execution_count": 14,
      "outputs": [
        {
          "output_type": "stream",
          "name": "stdout",
          "text": [
            "Answer vocabulary size based on training dataset: 32278\n"
          ]
        }
      ]
    },
    {
      "cell_type": "markdown",
      "source": [
        "---\n",
        "# END OF NOTEBOOK\n",
        "---"
      ],
      "metadata": {
        "id": "Yix-x4lfy4QZ"
      }
    }
  ]
}
